{
 "cells": [
  {
   "cell_type": "code",
   "execution_count": 1,
   "id": "a1caf062-e358-4414-9f12-683546b61603",
   "metadata": {},
   "outputs": [],
   "source": [
    "import pickle"
   ]
  },
  {
   "cell_type": "code",
   "execution_count": 8,
   "id": "501f2d04-9999-4e2f-b00d-54cbccf8cd19",
   "metadata": {},
   "outputs": [],
   "source": [
    "loaded_model=pickle.load(open(\"Finalized_Model_Multiple_Linear.sav\",'rb'))"
   ]
  },
  {
   "cell_type": "code",
   "execution_count": 9,
   "id": "b21f8297-59d2-473e-84ef-f4e2eea9c442",
   "metadata": {},
   "outputs": [
    {
     "name": "stdin",
     "output_type": "stream",
     "text": [
      "R&D Spend : 6789\n",
      "Administration Spend :  4521\n",
      "Marketing Spend :  876\n",
      "State_California :  0\n",
      "State_Florida :  1\n",
      "State_NewYork :  0\n"
     ]
    }
   ],
   "source": [
    "input1=int(input(\"R&D Spend :\"))\n",
    "input2=int(input(\"Administration Spend : \"))\n",
    "input3=int(input(\"Marketing Spend : \"))\n",
    "input4=int(input(\"State_California : \"))\n",
    "input5=int(input(\"State_Florida : \"))\n",
    "input6=int(input(\"State_NewYork : \"))"
   ]
  },
  {
   "cell_type": "code",
   "execution_count": 10,
   "id": "da6e6b21-0877-4c03-a0d6-a347073205a5",
   "metadata": {},
   "outputs": [
    {
     "name": "stderr",
     "output_type": "stream",
     "text": [
      "C:\\ProgramData\\anaconda3\\Lib\\site-packages\\sklearn\\utils\\validation.py:2739: UserWarning: X does not have valid feature names, but LinearRegression was fitted with feature names\n",
      "  warnings.warn(\n"
     ]
    }
   ],
   "source": [
    "result=loaded_model.predict([[input1,input2,input3,input4,input5,input6]])"
   ]
  },
  {
   "cell_type": "code",
   "execution_count": 11,
   "id": "b35809b5-ab65-4a70-9f3f-db780156b82f",
   "metadata": {},
   "outputs": [
    {
     "data": {
      "text/plain": [
       "array([[48399.25639243]])"
      ]
     },
     "execution_count": 11,
     "metadata": {},
     "output_type": "execute_result"
    }
   ],
   "source": [
    "result"
   ]
  },
  {
   "cell_type": "code",
   "execution_count": null,
   "id": "d6d5f59d-9e88-40b0-82a7-af32b8d92cd5",
   "metadata": {},
   "outputs": [],
   "source": []
  }
 ],
 "metadata": {
  "kernelspec": {
   "display_name": "Python 3 (ipykernel)",
   "language": "python",
   "name": "python3"
  },
  "language_info": {
   "codemirror_mode": {
    "name": "ipython",
    "version": 3
   },
   "file_extension": ".py",
   "mimetype": "text/x-python",
   "name": "python",
   "nbconvert_exporter": "python",
   "pygments_lexer": "ipython3",
   "version": "3.13.5"
  }
 },
 "nbformat": 4,
 "nbformat_minor": 5
}
